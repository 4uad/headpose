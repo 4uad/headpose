{
 "cells": [
  {
   "cell_type": "markdown",
   "metadata": {
    "id": "ziY8dujBRHWh"
   },
   "source": [
    "# ***Head Pose***\n",
    "\n",
    "Utilizaremos una red neuronal convolucional en Keras para detectar los ángulos de rotación de una cara.\n",
    "\n",
    "Por ejemplo, enseñaremos a la red neuronal a detectar que en esta imagen aparece una cara rotada 60º y 75º en dos ejes:\n",
    "\n",
    "<img src=\"data/Person05/person05102-60-75.jpg\"></img>"
   ]
  },
  {
   "cell_type": "markdown",
   "metadata": {
    "id": "Tb6ScVgeRVYP"
   },
   "source": [
    "Importación de las librerías necesarias"
   ]
  },
  {
   "cell_type": "code",
   "execution_count": 1,
   "metadata": {
    "id": "b7P6fXXGQ-ZE"
   },
   "outputs": [],
   "source": [
    "from sklearn.model_selection import train_test_split  \n",
    "import re\n",
    "import requests\n",
    "import pandas as pd\n",
    "import numpy as np\n",
    "import glob\n",
    "import os\n",
    "import re\n",
    "import tensorflow as tf\n",
    "from PIL import Image\n",
    "import matplotlib.pyplot as plt\n",
    "from keras import backend as K"
   ]
  },
  {
   "cell_type": "code",
   "execution_count": 2,
   "metadata": {},
   "outputs": [
    {
     "name": "stdout",
     "output_type": "stream",
     "text": [
      "GPUs Available: 1\n"
     ]
    }
   ],
   "source": [
    "# GPU check\n",
    "gpus = tf.config.experimental.list_physical_devices('GPU')\n",
    "print('GPUs Available:', len(gpus))"
   ]
  },
  {
   "cell_type": "markdown",
   "metadata": {
    "id": "HApA6ovTGyk6"
   },
   "source": [
    "Leemos las imágenes del directorio de trabajo y componemos un dataframe a partir de ellas"
   ]
  },
  {
   "cell_type": "code",
   "execution_count": 3,
   "metadata": {},
   "outputs": [
    {
     "data": {
      "text/plain": [
       "['Front',\n",
       " 'Person01',\n",
       " 'Person02',\n",
       " 'Person03',\n",
       " 'Person04',\n",
       " 'Person05',\n",
       " 'Person06',\n",
       " 'Person07',\n",
       " 'Person08',\n",
       " 'Person09',\n",
       " 'Person10',\n",
       " 'Person11',\n",
       " 'Person12',\n",
       " 'Person13',\n",
       " 'Person14',\n",
       " 'Person15',\n",
       " 'README.txt']"
      ]
     },
     "execution_count": 3,
     "metadata": {},
     "output_type": "execute_result"
    }
   ],
   "source": [
    "os.listdir('data')"
   ]
  },
  {
   "cell_type": "code",
   "execution_count": 4,
   "metadata": {
    "id": "L5JyY2RmGyk7"
   },
   "outputs": [
    {
     "data": {
      "text/html": [
       "<div>\n",
       "<style scoped>\n",
       "    .dataframe tbody tr th:only-of-type {\n",
       "        vertical-align: middle;\n",
       "    }\n",
       "\n",
       "    .dataframe tbody tr th {\n",
       "        vertical-align: top;\n",
       "    }\n",
       "\n",
       "    .dataframe thead th {\n",
       "        text-align: right;\n",
       "    }\n",
       "</style>\n",
       "<table border=\"1\" class=\"dataframe\">\n",
       "  <thead>\n",
       "    <tr style=\"text-align: right;\">\n",
       "      <th></th>\n",
       "      <th>X</th>\n",
       "      <th>Y</th>\n",
       "      <th>H</th>\n",
       "      <th>W</th>\n",
       "      <th>T</th>\n",
       "      <th>P</th>\n",
       "      <th>Image</th>\n",
       "    </tr>\n",
       "  </thead>\n",
       "  <tbody>\n",
       "    <tr>\n",
       "      <th>0</th>\n",
       "      <td>260</td>\n",
       "      <td>133</td>\n",
       "      <td>74</td>\n",
       "      <td>117</td>\n",
       "      <td>0</td>\n",
       "      <td>-75</td>\n",
       "      <td>[[[22, 22, 22], [16, 16, 16], [56, 56, 56], [1...</td>\n",
       "    </tr>\n",
       "    <tr>\n",
       "      <th>1</th>\n",
       "      <td>266</td>\n",
       "      <td>155</td>\n",
       "      <td>108</td>\n",
       "      <td>123</td>\n",
       "      <td>-15</td>\n",
       "      <td>-45</td>\n",
       "      <td>[[[21, 21, 21], [15, 15, 15], [57, 57, 57], [1...</td>\n",
       "    </tr>\n",
       "    <tr>\n",
       "      <th>2</th>\n",
       "      <td>107</td>\n",
       "      <td>144</td>\n",
       "      <td>91</td>\n",
       "      <td>110</td>\n",
       "      <td>0</td>\n",
       "      <td>90</td>\n",
       "      <td>[[[22, 22, 22], [15, 15, 15], [55, 55, 55], [1...</td>\n",
       "    </tr>\n",
       "    <tr>\n",
       "      <th>3</th>\n",
       "      <td>202</td>\n",
       "      <td>96</td>\n",
       "      <td>112</td>\n",
       "      <td>94</td>\n",
       "      <td>60</td>\n",
       "      <td>-15</td>\n",
       "      <td>[[[21, 21, 21], [15, 15, 15], [55, 55, 55], [1...</td>\n",
       "    </tr>\n",
       "    <tr>\n",
       "      <th>4</th>\n",
       "      <td>177</td>\n",
       "      <td>95</td>\n",
       "      <td>118</td>\n",
       "      <td>100</td>\n",
       "      <td>60</td>\n",
       "      <td>15</td>\n",
       "      <td>[[[20, 22, 21], [14, 16, 15], [55, 57, 56], [1...</td>\n",
       "    </tr>\n",
       "    <tr>\n",
       "      <th>...</th>\n",
       "      <td>...</td>\n",
       "      <td>...</td>\n",
       "      <td>...</td>\n",
       "      <td>...</td>\n",
       "      <td>...</td>\n",
       "      <td>...</td>\n",
       "      <td>...</td>\n",
       "    </tr>\n",
       "    <tr>\n",
       "      <th>2785</th>\n",
       "      <td>92</td>\n",
       "      <td>163</td>\n",
       "      <td>83</td>\n",
       "      <td>105</td>\n",
       "      <td>0</td>\n",
       "      <td>60</td>\n",
       "      <td>[[[22, 21, 19], [17, 15, 13], [52, 52, 50], [1...</td>\n",
       "    </tr>\n",
       "    <tr>\n",
       "      <th>2786</th>\n",
       "      <td>72</td>\n",
       "      <td>132</td>\n",
       "      <td>80</td>\n",
       "      <td>113</td>\n",
       "      <td>30</td>\n",
       "      <td>75</td>\n",
       "      <td>[[[21, 21, 21], [14, 14, 14], [48, 48, 48], [1...</td>\n",
       "    </tr>\n",
       "    <tr>\n",
       "      <th>2787</th>\n",
       "      <td>104</td>\n",
       "      <td>133</td>\n",
       "      <td>90</td>\n",
       "      <td>102</td>\n",
       "      <td>30</td>\n",
       "      <td>45</td>\n",
       "      <td>[[[21, 20, 18], [18, 17, 15], [52, 51, 49], [1...</td>\n",
       "    </tr>\n",
       "    <tr>\n",
       "      <th>2788</th>\n",
       "      <td>199</td>\n",
       "      <td>188</td>\n",
       "      <td>113</td>\n",
       "      <td>106</td>\n",
       "      <td>-30</td>\n",
       "      <td>-30</td>\n",
       "      <td>[[[21, 21, 21], [16, 16, 16], [51, 51, 51], [1...</td>\n",
       "    </tr>\n",
       "    <tr>\n",
       "      <th>2789</th>\n",
       "      <td>96</td>\n",
       "      <td>169</td>\n",
       "      <td>98</td>\n",
       "      <td>111</td>\n",
       "      <td>0</td>\n",
       "      <td>45</td>\n",
       "      <td>[[[21, 21, 21], [16, 16, 16], [47, 47, 47], [1...</td>\n",
       "    </tr>\n",
       "  </tbody>\n",
       "</table>\n",
       "<p>2790 rows × 7 columns</p>\n",
       "</div>"
      ],
      "text/plain": [
       "        X    Y    H    W    T    P  \\\n",
       "0     260  133   74  117    0  -75   \n",
       "1     266  155  108  123  -15  -45   \n",
       "2     107  144   91  110    0   90   \n",
       "3     202   96  112   94   60  -15   \n",
       "4     177   95  118  100   60   15   \n",
       "...   ...  ...  ...  ...  ...  ...   \n",
       "2785   92  163   83  105    0   60   \n",
       "2786   72  132   80  113   30   75   \n",
       "2787  104  133   90  102   30   45   \n",
       "2788  199  188  113  106  -30  -30   \n",
       "2789   96  169   98  111    0   45   \n",
       "\n",
       "                                                  Image  \n",
       "0     [[[22, 22, 22], [16, 16, 16], [56, 56, 56], [1...  \n",
       "1     [[[21, 21, 21], [15, 15, 15], [57, 57, 57], [1...  \n",
       "2     [[[22, 22, 22], [15, 15, 15], [55, 55, 55], [1...  \n",
       "3     [[[21, 21, 21], [15, 15, 15], [55, 55, 55], [1...  \n",
       "4     [[[20, 22, 21], [14, 16, 15], [55, 57, 56], [1...  \n",
       "...                                                 ...  \n",
       "2785  [[[22, 21, 19], [17, 15, 13], [52, 52, 50], [1...  \n",
       "2786  [[[21, 21, 21], [14, 14, 14], [48, 48, 48], [1...  \n",
       "2787  [[[21, 20, 18], [18, 17, 15], [52, 51, 49], [1...  \n",
       "2788  [[[21, 21, 21], [16, 16, 16], [51, 51, 51], [1...  \n",
       "2789  [[[21, 21, 21], [16, 16, 16], [47, 47, 47], [1...  \n",
       "\n",
       "[2790 rows x 7 columns]"
      ]
     },
     "execution_count": 4,
     "metadata": {},
     "output_type": "execute_result"
    }
   ],
   "source": [
    "DATA_PATH = 'data'\n",
    "IMG_EXTENSION = 'jpg'\n",
    "IMG_SIZE = 224\n",
    "TXT_EXTENSION = 'txt'\n",
    "\n",
    "# Procesar la imagen\n",
    "def img_df(image_path, shape):\n",
    "    image = Image.open(image_path)\n",
    "    image_resized = image.resize(shape, Image.ANTIALIAS)\n",
    "    img_array = np.asarray(image_resized)\n",
    "    return img_array\n",
    "\n",
    "# Dataframe a rellenar\n",
    "colnames = [\"X\", \"Y\", \"H\", \"W\", \"T\", \"P\", \"Image\"]\n",
    "df = pd.DataFrame(columns = colnames)\n",
    "\n",
    "# finalmente deberíais tener algo como lo siguiente\n",
    "\n",
    "df.X = df.X.astype(int)\n",
    "df.Y = df.Y.astype(int)\n",
    "df.H = df.H.astype(int)\n",
    "df.W = df.W.astype(int)\n",
    "df = df.reset_index().drop(\"index\", axis=1)\n",
    "\n",
    "all_paths = os.listdir(DATA_PATH)\n",
    "regex = re.compile('^Person\\d+$')\n",
    "paths = list(filter(regex.match, all_paths))\n",
    "\n",
    "# Cargamos las imagenes una a una\n",
    "for path in paths:\n",
    "    wd = os.path.join(DATA_PATH, path)\n",
    "    all_files = os.listdir(wd)\n",
    "    persons = list(set([re.sub(r'\\.[a-z|A-Z]{3}$', '', file) for file in all_files]))\n",
    "    \n",
    "    for person in persons:\n",
    "        t = int(re.sub(r'(^person\\d+|(\\+|-)\\d+$)', '', person))\n",
    "        p = int(re.sub(r'(^person\\d+(\\+|-)\\d+)', '', person))\n",
    "        \n",
    "        image_file = os.path.join(wd, person + '.' + IMG_EXTENSION)\n",
    "        text_file = os.path.join(wd, person + '.' + TXT_EXTENSION)\n",
    "        \n",
    "        img = img_df(image_file, (IMG_SIZE, IMG_SIZE))\n",
    "        txt = pd.read_csv(text_file, skiprows = 3, header=None).to_numpy()\n",
    "        \n",
    "        txt = np.squeeze(txt, axis = 1)\n",
    "        \n",
    "        df = df.append({'X': txt[0], 'Y': txt[1], 'H': txt[2], 'W': txt[3], 'T': t, 'P': p, 'Image': img}, ignore_index=True)\n",
    "        \n",
    "df"
   ]
  },
  {
   "cell_type": "code",
   "execution_count": 5,
   "metadata": {
    "id": "XrIaQ-J7Gyk8"
   },
   "outputs": [],
   "source": [
    "# Dividimos en input y output\n",
    "X = np.array(list(df['Image'].values)).astype(int)\n",
    "Y = np.array(list(df[['T', 'P']].values)).astype(int)"
   ]
  },
  {
   "cell_type": "code",
   "execution_count": 6,
   "metadata": {
    "id": "f9P6pUKWGyk8"
   },
   "outputs": [],
   "source": [
    "# Dividimos en conjunto de prueba y validación\n",
    "X_train, X_test, Y_train, Y_test = train_test_split(X, Y, test_size=0.2, stratify = Y, random_state=3245790)"
   ]
  },
  {
   "cell_type": "markdown",
   "metadata": {
    "id": "9f_4xdWAStJU"
   },
   "source": [
    "Aplicando transfer learning, importamos la red MobileNet y descongelamos las últimas capas"
   ]
  },
  {
   "cell_type": "code",
   "execution_count": 7,
   "metadata": {
    "id": "aqvp4P2nUHGU"
   },
   "outputs": [
    {
     "name": "stdout",
     "output_type": "stream",
     "text": [
      "WARNING:tensorflow:`input_shape` is undefined or non-square, or `rows` is not in [128, 160, 192, 224]. Weights for input shape (224, 224) will be loaded as the default.\n",
      "86 capas\n",
      "Model: \"mobilenet_1.00_224\"\n",
      "_________________________________________________________________\n",
      "Layer (type)                 Output Shape              Param #   \n",
      "=================================================================\n",
      "input_1 (InputLayer)         [(None, None, None, 3)]   0         \n",
      "_________________________________________________________________\n",
      "conv1 (Conv2D)               (None, None, None, 32)    864       \n",
      "_________________________________________________________________\n",
      "conv1_bn (BatchNormalization (None, None, None, 32)    128       \n",
      "_________________________________________________________________\n",
      "conv1_relu (ReLU)            (None, None, None, 32)    0         \n",
      "_________________________________________________________________\n",
      "conv_dw_1 (DepthwiseConv2D)  (None, None, None, 32)    288       \n",
      "_________________________________________________________________\n",
      "conv_dw_1_bn (BatchNormaliza (None, None, None, 32)    128       \n",
      "_________________________________________________________________\n",
      "conv_dw_1_relu (ReLU)        (None, None, None, 32)    0         \n",
      "_________________________________________________________________\n",
      "conv_pw_1 (Conv2D)           (None, None, None, 64)    2048      \n",
      "_________________________________________________________________\n",
      "conv_pw_1_bn (BatchNormaliza (None, None, None, 64)    256       \n",
      "_________________________________________________________________\n",
      "conv_pw_1_relu (ReLU)        (None, None, None, 64)    0         \n",
      "_________________________________________________________________\n",
      "conv_pad_2 (ZeroPadding2D)   (None, None, None, 64)    0         \n",
      "_________________________________________________________________\n",
      "conv_dw_2 (DepthwiseConv2D)  (None, None, None, 64)    576       \n",
      "_________________________________________________________________\n",
      "conv_dw_2_bn (BatchNormaliza (None, None, None, 64)    256       \n",
      "_________________________________________________________________\n",
      "conv_dw_2_relu (ReLU)        (None, None, None, 64)    0         \n",
      "_________________________________________________________________\n",
      "conv_pw_2 (Conv2D)           (None, None, None, 128)   8192      \n",
      "_________________________________________________________________\n",
      "conv_pw_2_bn (BatchNormaliza (None, None, None, 128)   512       \n",
      "_________________________________________________________________\n",
      "conv_pw_2_relu (ReLU)        (None, None, None, 128)   0         \n",
      "_________________________________________________________________\n",
      "conv_dw_3 (DepthwiseConv2D)  (None, None, None, 128)   1152      \n",
      "_________________________________________________________________\n",
      "conv_dw_3_bn (BatchNormaliza (None, None, None, 128)   512       \n",
      "_________________________________________________________________\n",
      "conv_dw_3_relu (ReLU)        (None, None, None, 128)   0         \n",
      "_________________________________________________________________\n",
      "conv_pw_3 (Conv2D)           (None, None, None, 128)   16384     \n",
      "_________________________________________________________________\n",
      "conv_pw_3_bn (BatchNormaliza (None, None, None, 128)   512       \n",
      "_________________________________________________________________\n",
      "conv_pw_3_relu (ReLU)        (None, None, None, 128)   0         \n",
      "_________________________________________________________________\n",
      "conv_pad_4 (ZeroPadding2D)   (None, None, None, 128)   0         \n",
      "_________________________________________________________________\n",
      "conv_dw_4 (DepthwiseConv2D)  (None, None, None, 128)   1152      \n",
      "_________________________________________________________________\n",
      "conv_dw_4_bn (BatchNormaliza (None, None, None, 128)   512       \n",
      "_________________________________________________________________\n",
      "conv_dw_4_relu (ReLU)        (None, None, None, 128)   0         \n",
      "_________________________________________________________________\n",
      "conv_pw_4 (Conv2D)           (None, None, None, 256)   32768     \n",
      "_________________________________________________________________\n",
      "conv_pw_4_bn (BatchNormaliza (None, None, None, 256)   1024      \n",
      "_________________________________________________________________\n",
      "conv_pw_4_relu (ReLU)        (None, None, None, 256)   0         \n",
      "_________________________________________________________________\n",
      "conv_dw_5 (DepthwiseConv2D)  (None, None, None, 256)   2304      \n",
      "_________________________________________________________________\n",
      "conv_dw_5_bn (BatchNormaliza (None, None, None, 256)   1024      \n",
      "_________________________________________________________________\n",
      "conv_dw_5_relu (ReLU)        (None, None, None, 256)   0         \n",
      "_________________________________________________________________\n",
      "conv_pw_5 (Conv2D)           (None, None, None, 256)   65536     \n",
      "_________________________________________________________________\n",
      "conv_pw_5_bn (BatchNormaliza (None, None, None, 256)   1024      \n",
      "_________________________________________________________________\n",
      "conv_pw_5_relu (ReLU)        (None, None, None, 256)   0         \n",
      "_________________________________________________________________\n",
      "conv_pad_6 (ZeroPadding2D)   (None, None, None, 256)   0         \n",
      "_________________________________________________________________\n",
      "conv_dw_6 (DepthwiseConv2D)  (None, None, None, 256)   2304      \n",
      "_________________________________________________________________\n",
      "conv_dw_6_bn (BatchNormaliza (None, None, None, 256)   1024      \n",
      "_________________________________________________________________\n",
      "conv_dw_6_relu (ReLU)        (None, None, None, 256)   0         \n",
      "_________________________________________________________________\n",
      "conv_pw_6 (Conv2D)           (None, None, None, 512)   131072    \n",
      "_________________________________________________________________\n",
      "conv_pw_6_bn (BatchNormaliza (None, None, None, 512)   2048      \n",
      "_________________________________________________________________\n",
      "conv_pw_6_relu (ReLU)        (None, None, None, 512)   0         \n",
      "_________________________________________________________________\n",
      "conv_dw_7 (DepthwiseConv2D)  (None, None, None, 512)   4608      \n",
      "_________________________________________________________________\n",
      "conv_dw_7_bn (BatchNormaliza (None, None, None, 512)   2048      \n",
      "_________________________________________________________________\n",
      "conv_dw_7_relu (ReLU)        (None, None, None, 512)   0         \n",
      "_________________________________________________________________\n",
      "conv_pw_7 (Conv2D)           (None, None, None, 512)   262144    \n",
      "_________________________________________________________________\n",
      "conv_pw_7_bn (BatchNormaliza (None, None, None, 512)   2048      \n",
      "_________________________________________________________________\n",
      "conv_pw_7_relu (ReLU)        (None, None, None, 512)   0         \n",
      "_________________________________________________________________\n",
      "conv_dw_8 (DepthwiseConv2D)  (None, None, None, 512)   4608      \n",
      "_________________________________________________________________\n",
      "conv_dw_8_bn (BatchNormaliza (None, None, None, 512)   2048      \n",
      "_________________________________________________________________\n",
      "conv_dw_8_relu (ReLU)        (None, None, None, 512)   0         \n",
      "_________________________________________________________________\n",
      "conv_pw_8 (Conv2D)           (None, None, None, 512)   262144    \n",
      "_________________________________________________________________\n",
      "conv_pw_8_bn (BatchNormaliza (None, None, None, 512)   2048      \n",
      "_________________________________________________________________\n",
      "conv_pw_8_relu (ReLU)        (None, None, None, 512)   0         \n",
      "_________________________________________________________________\n",
      "conv_dw_9 (DepthwiseConv2D)  (None, None, None, 512)   4608      \n",
      "_________________________________________________________________\n",
      "conv_dw_9_bn (BatchNormaliza (None, None, None, 512)   2048      \n",
      "_________________________________________________________________\n",
      "conv_dw_9_relu (ReLU)        (None, None, None, 512)   0         \n",
      "_________________________________________________________________\n",
      "conv_pw_9 (Conv2D)           (None, None, None, 512)   262144    \n",
      "_________________________________________________________________\n",
      "conv_pw_9_bn (BatchNormaliza (None, None, None, 512)   2048      \n",
      "_________________________________________________________________\n",
      "conv_pw_9_relu (ReLU)        (None, None, None, 512)   0         \n",
      "_________________________________________________________________\n",
      "conv_dw_10 (DepthwiseConv2D) (None, None, None, 512)   4608      \n",
      "_________________________________________________________________\n",
      "conv_dw_10_bn (BatchNormaliz (None, None, None, 512)   2048      \n",
      "_________________________________________________________________\n",
      "conv_dw_10_relu (ReLU)       (None, None, None, 512)   0         \n",
      "_________________________________________________________________\n",
      "conv_pw_10 (Conv2D)          (None, None, None, 512)   262144    \n",
      "_________________________________________________________________\n",
      "conv_pw_10_bn (BatchNormaliz (None, None, None, 512)   2048      \n",
      "_________________________________________________________________\n",
      "conv_pw_10_relu (ReLU)       (None, None, None, 512)   0         \n",
      "_________________________________________________________________\n",
      "conv_dw_11 (DepthwiseConv2D) (None, None, None, 512)   4608      \n",
      "_________________________________________________________________\n",
      "conv_dw_11_bn (BatchNormaliz (None, None, None, 512)   2048      \n",
      "_________________________________________________________________\n",
      "conv_dw_11_relu (ReLU)       (None, None, None, 512)   0         \n",
      "_________________________________________________________________\n",
      "conv_pw_11 (Conv2D)          (None, None, None, 512)   262144    \n",
      "_________________________________________________________________\n",
      "conv_pw_11_bn (BatchNormaliz (None, None, None, 512)   2048      \n",
      "_________________________________________________________________\n",
      "conv_pw_11_relu (ReLU)       (None, None, None, 512)   0         \n",
      "_________________________________________________________________\n",
      "conv_pad_12 (ZeroPadding2D)  (None, None, None, 512)   0         \n",
      "_________________________________________________________________\n",
      "conv_dw_12 (DepthwiseConv2D) (None, None, None, 512)   4608      \n",
      "_________________________________________________________________\n",
      "conv_dw_12_bn (BatchNormaliz (None, None, None, 512)   2048      \n",
      "_________________________________________________________________\n",
      "conv_dw_12_relu (ReLU)       (None, None, None, 512)   0         \n",
      "_________________________________________________________________\n",
      "conv_pw_12 (Conv2D)          (None, None, None, 1024)  524288    \n",
      "_________________________________________________________________\n",
      "conv_pw_12_bn (BatchNormaliz (None, None, None, 1024)  4096      \n",
      "_________________________________________________________________\n",
      "conv_pw_12_relu (ReLU)       (None, None, None, 1024)  0         \n",
      "_________________________________________________________________\n",
      "conv_dw_13 (DepthwiseConv2D) (None, None, None, 1024)  9216      \n",
      "_________________________________________________________________\n",
      "conv_dw_13_bn (BatchNormaliz (None, None, None, 1024)  4096      \n",
      "_________________________________________________________________\n",
      "conv_dw_13_relu (ReLU)       (None, None, None, 1024)  0         \n",
      "_________________________________________________________________\n",
      "conv_pw_13 (Conv2D)          (None, None, None, 1024)  1048576   \n",
      "_________________________________________________________________\n",
      "conv_pw_13_bn (BatchNormaliz (None, None, None, 1024)  4096      \n",
      "_________________________________________________________________\n",
      "conv_pw_13_relu (ReLU)       (None, None, None, 1024)  0         \n",
      "=================================================================\n",
      "Total params: 3,228,864\n",
      "Trainable params: 3,206,976\n",
      "Non-trainable params: 21,888\n",
      "_________________________________________________________________\n"
     ]
    }
   ],
   "source": [
    "from keras.applications import MobileNet\n",
    "from tensorflow.keras import layers\n",
    "import keras\n",
    "\n",
    "model = MobileNet(include_top=False)\n",
    "print(\"%i capas\" % len(model.layers))\n",
    "model.summary()"
   ]
  },
  {
   "cell_type": "code",
   "execution_count": 8,
   "metadata": {},
   "outputs": [],
   "source": [
    "# Construimos un modelo basado en MobileNet\n",
    "\n",
    "def create_model():\n",
    "    base_model = MobileNet(\n",
    "        input_shape=None,\n",
    "        alpha=1.0,\n",
    "        depth_multiplier=1,\n",
    "        dropout=0.001,\n",
    "        include_top=False,\n",
    "        weights=\"imagenet\",\n",
    "        input_tensor=None,\n",
    "        pooling=None,\n",
    "        classifier_activation=\"softmax\"\n",
    "    )\n",
    "\n",
    "    base_model.trainable = False\n",
    "\n",
    "    inputs = keras.Input(shape=(IMG_SIZE, IMG_SIZE, 3))\n",
    "\n",
    "    x = base_model(inputs, training=False)\n",
    "    x = keras.layers.GlobalAveragePooling2D()(x)\n",
    "\n",
    "    x = keras.layers.Dense(100,activation='relu')(x)\n",
    "    x = keras.layers.Dense(100,activation='relu')(x)\n",
    "    x = keras.layers.Dense(50,activation='relu')(x)\n",
    "\n",
    "    outputs = keras.layers.Dense(2, activation='linear')(x)\n",
    "    model = keras.Model(inputs, outputs)\n",
    "\n",
    "    optimizer = keras.optimizers.Adam(learning_rate=1e-3)\n",
    "    model.compile(optimizer=optimizer, loss='mean_squared_error', metrics=[\"mean_squared_error\", 'cosine_similarity'])\n",
    "    \n",
    "    return model"
   ]
  },
  {
   "cell_type": "markdown",
   "metadata": {
    "id": "RwHKpaHlUZTd"
   },
   "source": [
    "Entrenamos"
   ]
  },
  {
   "cell_type": "code",
   "execution_count": 9,
   "metadata": {},
   "outputs": [
    {
     "name": "stdout",
     "output_type": "stream",
     "text": [
      "Not connected to a TPU runtime. Using CPU/GPU strategy\n",
      "INFO:tensorflow:Using MirroredStrategy with devices ('/job:localhost/replica:0/task:0/device:GPU:0',)\n"
     ]
    }
   ],
   "source": [
    "try:\n",
    "    tpu = tf.distribute.cluster_resolver.TPUClusterResolver()  # TPU detection\n",
    "    print(\"Running on TPU \", tpu.cluster_spec().as_dict()[\"worker\"])\n",
    "    tf.config.experimental_connect_to_cluster(tpu)\n",
    "    tf.tpu.experimental.initialize_tpu_system(tpu)\n",
    "    strategy = tf.distribute.experimental.TPUStrategy(tpu)\n",
    "except ValueError:\n",
    "    print(\"Not connected to a TPU runtime. Using CPU/GPU strategy\")\n",
    "    strategy = tf.distribute.MirroredStrategy()"
   ]
  },
  {
   "cell_type": "code",
   "execution_count": 10,
   "metadata": {
    "scrolled": true
   },
   "outputs": [
    {
     "name": "stdout",
     "output_type": "stream",
     "text": [
      "WARNING:tensorflow:`input_shape` is undefined or non-square, or `rows` is not in [128, 160, 192, 224]. Weights for input shape (224, 224) will be loaded as the default.\n",
      "INFO:tensorflow:Reduce to /job:localhost/replica:0/task:0/device:CPU:0 then broadcast to ('/job:localhost/replica:0/task:0/device:CPU:0',).\n",
      "INFO:tensorflow:Reduce to /job:localhost/replica:0/task:0/device:CPU:0 then broadcast to ('/job:localhost/replica:0/task:0/device:CPU:0',).\n",
      "INFO:tensorflow:Reduce to /job:localhost/replica:0/task:0/device:CPU:0 then broadcast to ('/job:localhost/replica:0/task:0/device:CPU:0',).\n",
      "INFO:tensorflow:Reduce to /job:localhost/replica:0/task:0/device:CPU:0 then broadcast to ('/job:localhost/replica:0/task:0/device:CPU:0',).\n",
      "INFO:tensorflow:Reduce to /job:localhost/replica:0/task:0/device:CPU:0 then broadcast to ('/job:localhost/replica:0/task:0/device:CPU:0',).\n",
      "INFO:tensorflow:Reduce to /job:localhost/replica:0/task:0/device:CPU:0 then broadcast to ('/job:localhost/replica:0/task:0/device:CPU:0',).\n",
      "INFO:tensorflow:Reduce to /job:localhost/replica:0/task:0/device:CPU:0 then broadcast to ('/job:localhost/replica:0/task:0/device:CPU:0',).\n",
      "INFO:tensorflow:Reduce to /job:localhost/replica:0/task:0/device:CPU:0 then broadcast to ('/job:localhost/replica:0/task:0/device:CPU:0',).\n",
      "INFO:tensorflow:Reduce to /job:localhost/replica:0/task:0/device:CPU:0 then broadcast to ('/job:localhost/replica:0/task:0/device:CPU:0',).\n",
      "INFO:tensorflow:Reduce to /job:localhost/replica:0/task:0/device:CPU:0 then broadcast to ('/job:localhost/replica:0/task:0/device:CPU:0',).\n"
     ]
    }
   ],
   "source": [
    "from keras.callbacks import EarlyStopping\n",
    "\n",
    "with strategy.scope():\n",
    "    model = create_model()\n",
    "    \n",
    "es = EarlyStopping(monitor='val_loss', mode='min', verbose=2, restore_best_weights=True, patience=5)\n",
    "\n",
    "MAX_EPOCHS = 35\n",
    "BATCH_SIZE = 32"
   ]
  },
  {
   "cell_type": "code",
   "execution_count": 11,
   "metadata": {},
   "outputs": [
    {
     "name": "stdout",
     "output_type": "stream",
     "text": [
      "Model: \"model\"\n",
      "_________________________________________________________________\n",
      "Layer (type)                 Output Shape              Param #   \n",
      "=================================================================\n",
      "input_3 (InputLayer)         [(None, 224, 224, 3)]     0         \n",
      "_________________________________________________________________\n",
      "mobilenet_1.00_224 (Function (None, None, None, 1024)  3228864   \n",
      "_________________________________________________________________\n",
      "global_average_pooling2d (Gl (None, 1024)              0         \n",
      "_________________________________________________________________\n",
      "dense (Dense)                (None, 100)               102500    \n",
      "_________________________________________________________________\n",
      "dense_1 (Dense)              (None, 100)               10100     \n",
      "_________________________________________________________________\n",
      "dense_2 (Dense)              (None, 50)                5050      \n",
      "_________________________________________________________________\n",
      "dense_3 (Dense)              (None, 2)                 102       \n",
      "=================================================================\n",
      "Total params: 3,346,616\n",
      "Trainable params: 117,752\n",
      "Non-trainable params: 3,228,864\n",
      "_________________________________________________________________\n"
     ]
    }
   ],
   "source": [
    "model.summary()"
   ]
  },
  {
   "cell_type": "code",
   "execution_count": 12,
   "metadata": {
    "id": "2aSH22geUt2e",
    "scrolled": true
   },
   "outputs": [
    {
     "name": "stdout",
     "output_type": "stream",
     "text": [
      "Epoch 1/35\n",
      "70/70 - 17s - loss: 2142.0718 - mean_squared_error: 2142.0718 - cosine_similarity: 0.3370 - val_loss: 1735.8793 - val_mean_squared_error: 1735.8793 - val_cosine_similarity: 0.6082\n",
      "Epoch 2/35\n",
      "70/70 - 4s - loss: 1263.5128 - mean_squared_error: 1263.5128 - cosine_similarity: 0.6448 - val_loss: 829.5525 - val_mean_squared_error: 829.5525 - val_cosine_similarity: 0.7909\n",
      "Epoch 3/35\n",
      "70/70 - 4s - loss: 703.8393 - mean_squared_error: 703.8393 - cosine_similarity: 0.8021 - val_loss: 622.6615 - val_mean_squared_error: 622.6615 - val_cosine_similarity: 0.8227\n",
      "Epoch 4/35\n",
      "70/70 - 4s - loss: 546.7610 - mean_squared_error: 546.7610 - cosine_similarity: 0.8384 - val_loss: 523.0228 - val_mean_squared_error: 523.0228 - val_cosine_similarity: 0.8576\n",
      "Epoch 5/35\n",
      "70/70 - 4s - loss: 442.7782 - mean_squared_error: 442.7782 - cosine_similarity: 0.8643 - val_loss: 499.5476 - val_mean_squared_error: 499.5476 - val_cosine_similarity: 0.8479\n",
      "Epoch 6/35\n",
      "70/70 - 4s - loss: 394.6520 - mean_squared_error: 394.6520 - cosine_similarity: 0.8779 - val_loss: 397.3180 - val_mean_squared_error: 397.3180 - val_cosine_similarity: 0.8827\n",
      "Epoch 7/35\n",
      "70/70 - 4s - loss: 356.2755 - mean_squared_error: 356.2755 - cosine_similarity: 0.8856 - val_loss: 368.4218 - val_mean_squared_error: 368.4218 - val_cosine_similarity: 0.8803\n",
      "Epoch 8/35\n",
      "70/70 - 4s - loss: 330.3683 - mean_squared_error: 330.3683 - cosine_similarity: 0.8948 - val_loss: 522.7096 - val_mean_squared_error: 522.7096 - val_cosine_similarity: 0.8415\n",
      "Epoch 9/35\n",
      "70/70 - 4s - loss: 328.5154 - mean_squared_error: 328.5154 - cosine_similarity: 0.8864 - val_loss: 330.0638 - val_mean_squared_error: 330.0638 - val_cosine_similarity: 0.8922\n",
      "Epoch 10/35\n",
      "70/70 - 4s - loss: 261.8482 - mean_squared_error: 261.8482 - cosine_similarity: 0.9097 - val_loss: 327.2553 - val_mean_squared_error: 327.2553 - val_cosine_similarity: 0.8867\n",
      "Epoch 11/35\n",
      "70/70 - 4s - loss: 240.4593 - mean_squared_error: 240.4593 - cosine_similarity: 0.9156 - val_loss: 299.9784 - val_mean_squared_error: 299.9784 - val_cosine_similarity: 0.8971\n",
      "Epoch 12/35\n",
      "70/70 - 4s - loss: 244.4777 - mean_squared_error: 244.4777 - cosine_similarity: 0.9119 - val_loss: 328.5744 - val_mean_squared_error: 328.5744 - val_cosine_similarity: 0.8828\n",
      "Epoch 13/35\n",
      "70/70 - 4s - loss: 214.8692 - mean_squared_error: 214.8692 - cosine_similarity: 0.9265 - val_loss: 280.6391 - val_mean_squared_error: 280.6391 - val_cosine_similarity: 0.9024\n",
      "Epoch 14/35\n",
      "70/70 - 4s - loss: 199.7010 - mean_squared_error: 199.7010 - cosine_similarity: 0.9279 - val_loss: 294.9319 - val_mean_squared_error: 294.9319 - val_cosine_similarity: 0.8982\n",
      "Epoch 15/35\n",
      "70/70 - 4s - loss: 184.4012 - mean_squared_error: 184.4012 - cosine_similarity: 0.9306 - val_loss: 268.5653 - val_mean_squared_error: 268.5653 - val_cosine_similarity: 0.9053\n",
      "Epoch 16/35\n",
      "70/70 - 4s - loss: 178.1763 - mean_squared_error: 178.1763 - cosine_similarity: 0.9324 - val_loss: 263.8029 - val_mean_squared_error: 263.8029 - val_cosine_similarity: 0.9059\n",
      "Epoch 17/35\n",
      "70/70 - 4s - loss: 169.7064 - mean_squared_error: 169.7064 - cosine_similarity: 0.9402 - val_loss: 268.1647 - val_mean_squared_error: 268.1647 - val_cosine_similarity: 0.8994\n",
      "Epoch 18/35\n",
      "70/70 - 4s - loss: 159.7306 - mean_squared_error: 159.7306 - cosine_similarity: 0.9391 - val_loss: 238.0129 - val_mean_squared_error: 238.0129 - val_cosine_similarity: 0.9089\n",
      "Epoch 19/35\n",
      "70/70 - 4s - loss: 146.6246 - mean_squared_error: 146.6246 - cosine_similarity: 0.9467 - val_loss: 236.3134 - val_mean_squared_error: 236.3134 - val_cosine_similarity: 0.9099\n",
      "Epoch 20/35\n",
      "70/70 - 4s - loss: 144.0443 - mean_squared_error: 144.0443 - cosine_similarity: 0.9439 - val_loss: 234.5420 - val_mean_squared_error: 234.5420 - val_cosine_similarity: 0.9159\n",
      "Epoch 21/35\n",
      "70/70 - 4s - loss: 139.8292 - mean_squared_error: 139.8292 - cosine_similarity: 0.9482 - val_loss: 259.0663 - val_mean_squared_error: 259.0663 - val_cosine_similarity: 0.9024\n",
      "Epoch 22/35\n",
      "70/70 - 4s - loss: 132.2560 - mean_squared_error: 132.2560 - cosine_similarity: 0.9495 - val_loss: 220.6018 - val_mean_squared_error: 220.6018 - val_cosine_similarity: 0.9167\n",
      "Epoch 23/35\n",
      "70/70 - 4s - loss: 120.9799 - mean_squared_error: 120.9799 - cosine_similarity: 0.9537 - val_loss: 228.7835 - val_mean_squared_error: 228.7835 - val_cosine_similarity: 0.9109\n",
      "Epoch 24/35\n",
      "70/70 - 4s - loss: 118.6524 - mean_squared_error: 118.6524 - cosine_similarity: 0.9538 - val_loss: 212.8969 - val_mean_squared_error: 212.8969 - val_cosine_similarity: 0.9189\n",
      "Epoch 25/35\n",
      "70/70 - 4s - loss: 121.6841 - mean_squared_error: 121.6841 - cosine_similarity: 0.9508 - val_loss: 219.4201 - val_mean_squared_error: 219.4201 - val_cosine_similarity: 0.9197\n",
      "Epoch 26/35\n",
      "70/70 - 4s - loss: 113.3117 - mean_squared_error: 113.3117 - cosine_similarity: 0.9540 - val_loss: 218.3503 - val_mean_squared_error: 218.3503 - val_cosine_similarity: 0.9199\n",
      "Epoch 27/35\n",
      "70/70 - 4s - loss: 107.2935 - mean_squared_error: 107.2935 - cosine_similarity: 0.9582 - val_loss: 206.2353 - val_mean_squared_error: 206.2353 - val_cosine_similarity: 0.9204\n",
      "Epoch 28/35\n",
      "70/70 - 4s - loss: 98.8466 - mean_squared_error: 98.8466 - cosine_similarity: 0.9600 - val_loss: 198.4471 - val_mean_squared_error: 198.4471 - val_cosine_similarity: 0.9194\n",
      "Epoch 29/35\n",
      "70/70 - 4s - loss: 98.5515 - mean_squared_error: 98.5515 - cosine_similarity: 0.9604 - val_loss: 209.1658 - val_mean_squared_error: 209.1658 - val_cosine_similarity: 0.9210\n",
      "Epoch 30/35\n",
      "70/70 - 4s - loss: 100.0527 - mean_squared_error: 100.0527 - cosine_similarity: 0.9589 - val_loss: 223.4495 - val_mean_squared_error: 223.4495 - val_cosine_similarity: 0.9140\n",
      "Epoch 31/35\n",
      "70/70 - 4s - loss: 90.0959 - mean_squared_error: 90.0959 - cosine_similarity: 0.9596 - val_loss: 189.9890 - val_mean_squared_error: 189.9890 - val_cosine_similarity: 0.9247\n",
      "Epoch 32/35\n",
      "70/70 - 4s - loss: 84.1674 - mean_squared_error: 84.1674 - cosine_similarity: 0.9652 - val_loss: 199.8245 - val_mean_squared_error: 199.8245 - val_cosine_similarity: 0.9251\n",
      "Epoch 33/35\n",
      "70/70 - 4s - loss: 81.8599 - mean_squared_error: 81.8599 - cosine_similarity: 0.9644 - val_loss: 199.9082 - val_mean_squared_error: 199.9082 - val_cosine_similarity: 0.9274\n",
      "Epoch 34/35\n",
      "70/70 - 4s - loss: 82.4412 - mean_squared_error: 82.4412 - cosine_similarity: 0.9654 - val_loss: 188.9315 - val_mean_squared_error: 188.9315 - val_cosine_similarity: 0.9257\n",
      "Epoch 35/35\n",
      "70/70 - 4s - loss: 76.8964 - mean_squared_error: 76.8964 - cosine_similarity: 0.9667 - val_loss: 185.9333 - val_mean_squared_error: 185.9333 - val_cosine_similarity: 0.9257\n"
     ]
    }
   ],
   "source": [
    "hist = model.fit(\n",
    "    X_train, Y_train,\n",
    "    epochs=MAX_EPOCHS,\n",
    "    batch_size=BATCH_SIZE,\n",
    "    validation_data=(X_test, Y_test),\n",
    "    verbose=2,\n",
    "    callbacks=[es]\n",
    ")"
   ]
  },
  {
   "cell_type": "code",
   "execution_count": 13,
   "metadata": {},
   "outputs": [
    {
     "data": {
      "text/plain": [
       "array([[-15, -30,   0, ...,  15, -15,   0],\n",
       "       [  0, -15,  75, ..., -90,  60,  30]])"
      ]
     },
     "execution_count": 13,
     "metadata": {},
     "output_type": "execute_result"
    }
   ],
   "source": [
    "Y_pred = model(X_test)\n",
    "np.transpose(Y_test)"
   ]
  },
  {
   "cell_type": "markdown",
   "metadata": {
    "id": "0Vwyi4bLUyZn"
   },
   "source": [
    "Dibujamos la correlación entre el ángulo que hemos estimado y el real"
   ]
  },
  {
   "cell_type": "code",
   "execution_count": 14,
   "metadata": {
    "id": "JiWhF4VIVIF5"
   },
   "outputs": [
    {
     "data": {
      "text/plain": [
       "[<matplotlib.lines.Line2D at 0x23bd8494580>]"
      ]
     },
     "execution_count": 14,
     "metadata": {},
     "output_type": "execute_result"
    },
    {
     "data": {
      "image/png": "[encoded data removed]",
      "text/plain": [
       "<Figure size 432x288 with 1 Axes>"
      ]
     },
     "metadata": {
      "needs_background": "light"
     },
     "output_type": "display_data"
    }
   ],
   "source": [
    "plt.clf()\n",
    "plt.scatter(x = np.transpose(Y_test)[0], y = np.transpose(Y_pred)[0], )\n",
    "plt.plot([-90, 90], [-90, 90])"
   ]
  },
  {
   "cell_type": "code",
   "execution_count": 15,
   "metadata": {
    "scrolled": true
   },
   "outputs": [
    {
     "data": {
      "text/plain": [
       "[<matplotlib.lines.Line2D at 0x23be5a2a3a0>]"
      ]
     },
     "execution_count": 15,
     "metadata": {},
     "output_type": "execute_result"
    },
    {
     "data": {
      "image/png": "[encoded data removed]",
      "text/plain": [
       "<Figure size 432x288 with 1 Axes>"
      ]
     },
     "metadata": {
      "needs_background": "light"
     },
     "output_type": "display_data"
    }
   ],
   "source": [
    "plt.clf()\n",
    "plt.scatter(x = np.transpose(Y_test)[1], y = np.transpose(Y_pred)[1])\n",
    "plt.plot([-90, 90], [-90, 90])"
   ]
  },
  {
   "cell_type": "code",
   "execution_count": 16,
   "metadata": {},
   "outputs": [],
   "source": [
    "model.save('modelo1.h5')"
   ]
  }
 ],
 "metadata": {
  "colab": {
   "collapsed_sections": [],
   "name": "S3_HeadPoseAI6_Plantilla.ipynb",
   "provenance": []
  },
  "kernelspec": {
   "display_name": "Python 3",
   "language": "python",
   "name": "python3"
  },
  "language_info": {
   "codemirror_mode": {
    "name": "ipython",
    "version": 3
   },
   "file_extension": ".py",
   "mimetype": "text/x-python",
   "name": "python",
   "nbconvert_exporter": "python",
   "pygments_lexer": "ipython3",
   "version": "3.8.0"
  }
 },
 "nbformat": 4,
 "nbformat_minor": 1
}
